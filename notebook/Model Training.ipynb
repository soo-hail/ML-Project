{
 "cells": [
  {
   "cell_type": "markdown",
   "id": "29a9c2ec-b5bd-4bd3-bb97-38f182e3ea2a",
   "metadata": {},
   "source": [
    "# Model Training"
   ]
  },
  {
   "cell_type": "markdown",
   "id": "7d3d87fc-ce1f-4f8e-b79c-c033cfcf2c02",
   "metadata": {},
   "source": [
    "### 1.1. Import Data and required Packages"
   ]
  },
  {
   "cell_type": "code",
   "execution_count": 1,
   "id": "37ca02ba-bac4-4c43-8859-c7bf041432da",
   "metadata": {},
   "outputs": [],
   "source": [
    "import numpy as np\n",
    "import pandas as pd\n",
    "import matplotlib.pyplot as plt\n",
    "import seaborn as sns\n",
    "\n",
    "# Modelling\n",
    "from sklearn.metrics import mean_squared_error, r2_score\n",
    "from sklearn.neighbors import KNeighborsRegressor\n",
    "from sklearn.tree import DecisionTreeRegressor\n",
    "from sklearn.ensemble import RandomForestRegressor,AdaBoostRegressor\n",
    "from sklearn.svm import SVR\n",
    "from sklearn.linear_model import LinearRegression, Ridge,Lasso\n",
    "from sklearn.metrics import r2_score, mean_absolute_error, mean_squared_error\n",
    "from sklearn.model_selection import RandomizedSearchCV\n",
    "from catboost import CatBoostRegressor\n",
    "from xgboost import XGBRegressor\n",
    "import warnings"
   ]
  },
  {
   "cell_type": "code",
   "execution_count": 2,
   "id": "24b1243f-6f5e-4146-a228-cfb07f393e15",
   "metadata": {},
   "outputs": [],
   "source": [
    "# Import the CSV Data as Pandas DataFrame\n",
    "df = pd.read_csv('data/StudentsPerformance.csv')"
   ]
  },
  {
   "cell_type": "code",
   "execution_count": 3,
   "id": "5df5a685-47db-408d-aaac-774f1ba42fcf",
   "metadata": {},
   "outputs": [
    {
     "data": {
      "text/html": [
       "<div>\n",
       "<style scoped>\n",
       "    .dataframe tbody tr th:only-of-type {\n",
       "        vertical-align: middle;\n",
       "    }\n",
       "\n",
       "    .dataframe tbody tr th {\n",
       "        vertical-align: top;\n",
       "    }\n",
       "\n",
       "    .dataframe thead th {\n",
       "        text-align: right;\n",
       "    }\n",
       "</style>\n",
       "<table border=\"1\" class=\"dataframe\">\n",
       "  <thead>\n",
       "    <tr style=\"text-align: right;\">\n",
       "      <th></th>\n",
       "      <th>gender</th>\n",
       "      <th>race/ethnicity</th>\n",
       "      <th>parental level of education</th>\n",
       "      <th>lunch</th>\n",
       "      <th>test preparation course</th>\n",
       "      <th>math score</th>\n",
       "      <th>reading score</th>\n",
       "      <th>writing score</th>\n",
       "    </tr>\n",
       "  </thead>\n",
       "  <tbody>\n",
       "    <tr>\n",
       "      <th>0</th>\n",
       "      <td>female</td>\n",
       "      <td>group B</td>\n",
       "      <td>bachelor's degree</td>\n",
       "      <td>standard</td>\n",
       "      <td>none</td>\n",
       "      <td>72</td>\n",
       "      <td>72</td>\n",
       "      <td>74</td>\n",
       "    </tr>\n",
       "    <tr>\n",
       "      <th>1</th>\n",
       "      <td>female</td>\n",
       "      <td>group C</td>\n",
       "      <td>some college</td>\n",
       "      <td>standard</td>\n",
       "      <td>completed</td>\n",
       "      <td>69</td>\n",
       "      <td>90</td>\n",
       "      <td>88</td>\n",
       "    </tr>\n",
       "    <tr>\n",
       "      <th>2</th>\n",
       "      <td>female</td>\n",
       "      <td>group B</td>\n",
       "      <td>master's degree</td>\n",
       "      <td>standard</td>\n",
       "      <td>none</td>\n",
       "      <td>90</td>\n",
       "      <td>95</td>\n",
       "      <td>93</td>\n",
       "    </tr>\n",
       "    <tr>\n",
       "      <th>3</th>\n",
       "      <td>male</td>\n",
       "      <td>group A</td>\n",
       "      <td>associate's degree</td>\n",
       "      <td>free/reduced</td>\n",
       "      <td>none</td>\n",
       "      <td>47</td>\n",
       "      <td>57</td>\n",
       "      <td>44</td>\n",
       "    </tr>\n",
       "    <tr>\n",
       "      <th>4</th>\n",
       "      <td>male</td>\n",
       "      <td>group C</td>\n",
       "      <td>some college</td>\n",
       "      <td>standard</td>\n",
       "      <td>none</td>\n",
       "      <td>76</td>\n",
       "      <td>78</td>\n",
       "      <td>75</td>\n",
       "    </tr>\n",
       "  </tbody>\n",
       "</table>\n",
       "</div>"
      ],
      "text/plain": [
       "   gender race/ethnicity parental level of education         lunch  \\\n",
       "0  female        group B           bachelor's degree      standard   \n",
       "1  female        group C                some college      standard   \n",
       "2  female        group B             master's degree      standard   \n",
       "3    male        group A          associate's degree  free/reduced   \n",
       "4    male        group C                some college      standard   \n",
       "\n",
       "  test preparation course  math score  reading score  writing score  \n",
       "0                    none          72             72             74  \n",
       "1               completed          69             90             88  \n",
       "2                    none          90             95             93  \n",
       "3                    none          47             57             44  \n",
       "4                    none          76             78             75  "
      ]
     },
     "execution_count": 3,
     "metadata": {},
     "output_type": "execute_result"
    }
   ],
   "source": [
    "# Top 5 rows\n",
    "df.head()"
   ]
  },
  {
   "cell_type": "markdown",
   "id": "91e4858b-5db7-45c9-b390-10defa0f2ee6",
   "metadata": {},
   "source": [
    "### 1.2. Preparing X and Y variables"
   ]
  },
  {
   "cell_type": "code",
   "execution_count": 7,
   "id": "23169ff1-70a3-42da-a500-a848465e1b1d",
   "metadata": {},
   "outputs": [],
   "source": [
    "x = df.drop(columns = ['math score'], axis = 1) \n",
    "y = df['math score']\n",
    "# Note:\n",
    "# Creating prediction model for math-score"
   ]
  },
  {
   "cell_type": "code",
   "execution_count": 8,
   "id": "6a0a7354-77b7-44e1-b860-f55b4e210793",
   "metadata": {},
   "outputs": [],
   "source": [
    "# One-Hot Encoding: is a processes of representing categorial(non-numarical) features in binary form, because computer understand only numbers. \n",
    "from sklearn.preprocessing import OneHotEncoder, StandardScaler\n",
    "from sklearn.compose import ColumnTransformer\n",
    "# Note:\n",
    "# StandardScaler: Ensures all features are on same scale, otherwise model will bias on features with large values.\n",
    "\n",
    "# Create instance\n",
    "num_trans = StandardScaler()\n",
    "cat_trans = OneHotEncoder()\n",
    "\n",
    "num_features = x.select_dtypes(exclude = 'object').columns\n",
    "cat_features = x.select_dtypes(include = 'object').columns\n",
    "\n",
    "# Apply transformations.\n",
    "# Note: To apply different transformations on different columns in one step.\n",
    "\n",
    "# Create Instance\n",
    "preprocessor = ColumnTransformer([\n",
    "    ('OneHotEncoder', cat_trans, cat_features),\n",
    "    ('StandardScaler', num_trans, num_features)\n",
    "]) # This Processor can be used for pre-processing or training-model.\n",
    "\n"
   ]
  },
  {
   "cell_type": "code",
   "execution_count": 10,
   "id": "b1d1718e-d857-4592-9374-e841bec97220",
   "metadata": {},
   "outputs": [],
   "source": [
    "# Apply Transformation.\n",
    "x = preprocessor.fit_transform(x)"
   ]
  },
  {
   "cell_type": "code",
   "execution_count": 12,
   "id": "7c7ccfbf-c2a8-4d6b-abfc-3e95770e1144",
   "metadata": {},
   "outputs": [],
   "source": [
    "# Separate data for Train and Test\n",
    "from sklearn.model_selection import train_test_split\n",
    "\n",
    "x_train, x_test, y_train, y_test = train_test_split(x, y, test_size = 0.2, random_state = 42)"
   ]
  },
  {
   "cell_type": "code",
   "execution_count": 16,
   "id": "bf4fd834-30ea-4516-b48b-f64e29696f63",
   "metadata": {},
   "outputs": [
    {
     "data": {
      "text/plain": [
       "((800, 19), (200, 19), (800,), (200,))"
      ]
     },
     "execution_count": 16,
     "metadata": {},
     "output_type": "execute_result"
    }
   ],
   "source": [
    "x_train.shape, x_test.shape, y_train.shape, y_test.shape"
   ]
  },
  {
   "cell_type": "markdown",
   "id": "abb2fd34-5174-4b01-a8e8-cb92d37ac3de",
   "metadata": {},
   "source": [
    "### 2. Model Selection"
   ]
  },
  {
   "cell_type": "code",
   "execution_count": null,
   "id": "ad74fa1c-edb8-4902-a1f8-94fcfb72ce72",
   "metadata": {},
   "outputs": [],
   "source": []
  }
 ],
 "metadata": {
  "kernelspec": {
   "display_name": "env",
   "language": "python",
   "name": "env"
  },
  "language_info": {
   "codemirror_mode": {
    "name": "ipython",
    "version": 3
   },
   "file_extension": ".py",
   "mimetype": "text/x-python",
   "name": "python",
   "nbconvert_exporter": "python",
   "pygments_lexer": "ipython3",
   "version": "3.12.2"
  }
 },
 "nbformat": 4,
 "nbformat_minor": 5
}
